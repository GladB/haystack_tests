{
 "cells": [
  {
   "cell_type": "code",
   "execution_count": 6,
   "id": "621f3d49-34bd-42fc-9fd9-b84212b1e41a",
   "metadata": {},
   "outputs": [],
   "source": [
    "import os"
   ]
  },
  {
   "cell_type": "code",
   "execution_count": 10,
   "id": "811c962a-904f-412e-8c26-81de453a45fe",
   "metadata": {},
   "outputs": [
    {
     "name": "stdout",
     "output_type": "stream",
     "text": [
      "air_europa.txt\n",
      "air_corsica.txt\n",
      "air_malta.txt\n"
     ]
    }
   ],
   "source": [
    "for file in [x for x in os.listdir(\"piaf-ota/data/raw/\") if x.endswith(\"txt\")]:\n",
    "    print(file)"
   ]
  },
  {
   "cell_type": "code",
   "execution_count": 12,
   "id": "acb3cfce-d16a-4d69-b8f5-c1d2bf7ca97a",
   "metadata": {},
   "outputs": [],
   "source": [
    "with open(\"piaf-ota/data/raw/air_europa.txt\", 'r') as f :\n",
    "    blop = f.readlines()"
   ]
  },
  {
   "cell_type": "code",
   "execution_count": 13,
   "id": "55c6b601-8211-44bb-b91b-cf99f041c2f0",
   "metadata": {},
   "outputs": [
    {
     "name": "stdout",
     "output_type": "stream",
     "text": [
      "['Conditions de transport\\n', '=======================\\n', '\\n'] 763\n"
     ]
    }
   ],
   "source": [
    "print(blop[:3], len(blop))"
   ]
  },
  {
   "cell_type": "code",
   "execution_count": 14,
   "id": "815cb7d0-3bc6-4b3b-b68e-d3a52971c8cf",
   "metadata": {},
   "outputs": [],
   "source": [
    "blop = [x for x in blop if x!='\\n']"
   ]
  },
  {
   "cell_type": "code",
   "execution_count": 16,
   "id": "0c64426d-2602-4cc3-bf65-1e9b5c945883",
   "metadata": {},
   "outputs": [],
   "source": [
    "doc_length = 30\n",
    "for i in range(len(blop)):\n",
    "    with open(\"piaf-ota/data/processed/air_europa\"+str(i//doc_length)+\".txt\", \"a+\") as f:\n",
    "        f.write(blop[i])\n",
    "        f.write(\"\\n\")"
   ]
  },
  {
   "cell_type": "code",
   "execution_count": null,
   "id": "3b10c454-a91b-414a-bcf2-a522f693079f",
   "metadata": {},
   "outputs": [],
   "source": []
  }
 ],
 "metadata": {
  "kernelspec": {
   "display_name": "Python 3 (ipykernel)",
   "language": "python",
   "name": "python3"
  },
  "language_info": {
   "codemirror_mode": {
    "name": "ipython",
    "version": 3
   },
   "file_extension": ".py",
   "mimetype": "text/x-python",
   "name": "python",
   "nbconvert_exporter": "python",
   "pygments_lexer": "ipython3",
   "version": "3.9.12"
  }
 },
 "nbformat": 4,
 "nbformat_minor": 5
}
